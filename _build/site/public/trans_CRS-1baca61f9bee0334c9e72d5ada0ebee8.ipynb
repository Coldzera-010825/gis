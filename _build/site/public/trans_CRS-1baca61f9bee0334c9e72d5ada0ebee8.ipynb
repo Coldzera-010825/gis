{
 "cells": [
  {
   "cell_type": "code",
   "execution_count": null,
   "id": "a64a9739-9a3f-4ba1-b9be-70b9e5bf794f",
   "metadata": {},
   "outputs": [],
   "source": [
    "# ─── ① imports ─────────────────────────────────────────────\n",
    "import geopandas as gpd\n",
    "from pathlib import Path\n",
    "import shutil, os"
   ]
  },
  {
   "cell_type": "code",
   "execution_count": null,
   "id": "5f708f71-31f2-48aa-addb-a39150acb091",
   "metadata": {},
   "outputs": [],
   "source": [
    "# ─── ② 参数配置 ────────────────────────────────────────────\n",
    "input_root  = Path(r'D:/gis/to_transform')     # 待转换文件根目录\n",
    "output_root = Path(r'D:/gis/transformed')      # 输出根目录\n",
    "output_root.mkdir(parents=True, exist_ok=True)\n",
    "\n",
    "target_crs = 'EPSG:4326'          # 目标：WGS-84\n",
    "assumed_source_crs = None         # 如果数据本身没 CRS，请在这里填如 'EPSG:4547' 等"
   ]
  },
  {
   "cell_type": "code",
   "execution_count": null,
   "id": "fb0e38d6-91a0-4e6a-a91a-fc052cecbdde",
   "metadata": {},
   "outputs": [],
   "source": [
    "# ─── ③ 核心函数 ────────────────────────────────────────────\n",
    "def transform_vector(in_path: Path):\n",
    "    \"\"\"Read vector file, re-project to `target_crs`, write to mirror location.\"\"\"\n",
    "    try:\n",
    "        gdf = gpd.read_file(in_path)\n",
    "    except Exception as e:\n",
    "        print(f'[ERR] {in_path.name}: {e}')\n",
    "        return\n",
    "    \n",
    "    if gdf.crs is None:\n",
    "        if not assumed_source_crs:\n",
    "            print(f'[SKIP] {in_path.name}: no CRS & no assumed_source_crs.')\n",
    "            return\n",
    "        gdf = gdf.set_crs(assumed_source_crs)\n",
    "    \n",
    "    if str(gdf.crs).upper() == str(target_crs).upper():\n",
    "        print(f'[=] {in_path.name}: already in {target_crs}')\n",
    "        return\n",
    "    \n",
    "    gdf_out = gdf.to_crs(target_crs)\n",
    "    rel     = in_path.relative_to(input_root)\n",
    "    out_path = (output_root / rel).with_suffix('.shp')  # 始终写 Shapefile\n",
    "    out_path.parent.mkdir(parents=True, exist_ok=True)\n",
    "    gdf_out.to_file(out_path)\n",
    "    print(f'[OK] {in_path} → {out_path}')"
   ]
  },
  {
   "cell_type": "code",
   "execution_count": null,
   "id": "bd2a522f-27d1-4703-a72e-8ac030b8203d",
   "metadata": {},
   "outputs": [],
   "source": [
    "# ─── ④ 批处理执行 ──────────────────────────────────────────\n",
    "vector_exts = {'.shp', '.geojson', '.json', '.gpkg'}\n",
    "files = [p for p in input_root.rglob('*') if p.suffix.lower() in vector_exts]\n",
    "\n",
    "print(f'Total vector files: {len(files)}')\n",
    "for vec in files:\n",
    "    transform_vector(vec)"
   ]
  }
 ],
 "metadata": {
  "kernelspec": {
   "display_name": "Python 3 (ipykernel)",
   "language": "python",
   "name": "python3"
  },
  "language_info": {
   "codemirror_mode": {
    "name": "ipython",
    "version": 3
   },
   "file_extension": ".py",
   "mimetype": "text/x-python",
   "name": "python",
   "nbconvert_exporter": "python",
   "pygments_lexer": "ipython3",
   "version": "3.12.7"
  }
 },
 "nbformat": 4,
 "nbformat_minor": 5
}
