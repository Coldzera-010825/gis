{
 "cells": [
  {
   "cell_type": "code",
   "execution_count": null,
   "id": "205de701-d4cb-4cf1-87fa-20fc2994b9ec",
   "metadata": {},
   "outputs": [
    {
     "data": {
      "text/plain": [
       "'C:/Users/lishuhao/Desktop/kml输出代码/square_10km2.kml'"
      ]
     },
     "execution_count": 1,
     "metadata": {},
     "output_type": "execute_result"
    }
   ],
   "source": [
    "import math\n",
    "\n",
    "# Center coordinates 这里更改中心坐标点\n",
    "lat0 = 39.8510179\n",
    "lon0 = 116.219730\n",
    "\n",
    "# Calculate half side length (meters) for a 10 km² square 这里可以更改数据范围，以10平方公里为例\n",
    "half_side = math.sqrt(10_000_000) / 2  # ~1581.14 m\n",
    "\n",
    "# Approximate degrees per meter \n",
    "delta_lat = half_side / 111320  # degrees latitude per meter\n",
    "lat0_rad = math.radians(lat0)\n",
    "delta_lon = half_side / (111320 * math.cos(lat0_rad))  # degrees longitude per meter\n",
    "\n",
    "# Calculate square corner coordinates (lon, lat)\n",
    "coords = [\n",
    "    (lon0 - delta_lon, lat0 - delta_lat),\n",
    "    (lon0 + delta_lon, lat0 - delta_lat),\n",
    "    (lon0 + delta_lon, lat0 + delta_lat),\n",
    "    (lon0 - delta_lon, lat0 + delta_lat),\n",
    "    (lon0 - delta_lon, lat0 - delta_lat)\n",
    "]\n",
    "\n",
    "# Build KML content\n",
    "kml_content = \"\"\"<?xml version=\"1.0\" encoding=\"UTF-8\"?>\n",
    "<kml xmlns=\"http://www.opengis.net/kml/2.2\">\n",
    "  <Placemark>\n",
    "    <name>10km² Square Area</name>\n",
    "    <Polygon>\n",
    "      <outerBoundaryIs>\n",
    "        <LinearRing>\n",
    "          <coordinates>\n",
    "\"\"\"\n",
    "for lon, lat in coords:\n",
    "    kml_content += f\"            {lon},{lat},0\\n\"\n",
    "kml_content += \"\"\"          </coordinates>\n",
    "        </LinearRing>\n",
    "      </outerBoundaryIs>\n",
    "    </Polygon>\n",
    "  </Placemark>\n",
    "</kml>\n",
    "\"\"\"\n",
    "\n",
    "# Write to file\n",
    "file_path = \"/kml/square_10km2.kml\"\n",
    "with open(file_path, \"w\", encoding=\"utf-8\") as f:\n",
    "    f.write(kml_content)\n",
    "\n",
    "file_path\n"
   ]
  }
 ],
 "metadata": {
  "kernelspec": {
   "display_name": "Python 3 (ipykernel)",
   "language": "python",
   "name": "python3"
  },
  "language_info": {
   "codemirror_mode": {
    "name": "ipython",
    "version": 3
   },
   "file_extension": ".py",
   "mimetype": "text/x-python",
   "name": "python",
   "nbconvert_exporter": "python",
   "pygments_lexer": "ipython3",
   "version": "3.12.7"
  }
 },
 "nbformat": 4,
 "nbformat_minor": 5
}
