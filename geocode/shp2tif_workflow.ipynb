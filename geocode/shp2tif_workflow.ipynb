{
 "cells": [
  {
   "cell_type": "markdown",
   "id": "17aee97a",
   "metadata": {},
   "source": [
    "# Shapefile ➜ Float32 GeoTIFF (DEPTH2D) — Interactive + Batch\n",
    "\n",
    "This notebook **batch‑converts every `.shp` file beneath a chosen root directory into GeoTIFF rasters** while:\n",
    "\n",
    "1. repairing invalid geometries to avoid artefacts (e.g., stray horizontal lines);\n",
    "2. ensuring the output raster is **≤ 4096 × 4096** pixels (adjusting pixel size if necessary; default target ≈ `0.00001` degree);\n",
    "3. saving each GeoTIFF inside a sibling `tif/` folder alongside its source shapefile;\n",
    "4. writing a quick‑look *PNG* overlay (shapefile boundary + raster) for visual QA.\n",
    "5. **Interactive single‑file test** – preview one `.shp` as a raster overlay without saving.\n",
    "6. **Batch conversion** – scan timestamp‑named folders, convert each contained shapefile to 32‑bit float GeoTIFF (`DEPTH2D` band) named `<timestamp>_<frame>.tif`.\n",
    "\n",
    "> **Dependencies**  \n",
    "> - GeoPandas ≥ 0.14  \n",
    "> - Shapely ≥ 2.0  \n",
    "> - Rasterio ≥ 1.3  \n",
    "> - Matplotlib  \n",
    "> \n",
    "> Install (conda):  \n",
    "> ```bash\n",
    "> conda create -n gis python=3.11 geopandas rasterio matplotlib -c conda-forge\n",
    "> conda activate gis\n",
    "> ```\n",
    "\n",
    "All outputs limited to ≤ 4096×4096 pixels; overlapping polygons merged with *max* DEPTH2D; `nodata=-9999`.\n"
   ]
  },
  {
   "cell_type": "code",
   "execution_count": null,
   "id": "71886033",
   "metadata": {},
   "outputs": [],
   "source": [
    "import warnings, math\n",
    "from pathlib import Path\n",
    "import geopandas as gpd\n",
    "from shapely import make_valid\n",
    "import rasterio\n",
    "from rasterio.transform import from_origin\n",
    "from rasterio.features import rasterize\n",
    "from rasterio.enums import MergeAlg\n",
    "import matplotlib.pyplot as plt\n"
   ]
  },
  {
   "cell_type": "markdown",
   "id": "cfd5e26b",
   "metadata": {},
   "source": [
    "###  Configure I/O Paths"
   ]
  },
  {
   "cell_type": "code",
   "execution_count": null,
   "id": "27c9e4fb",
   "metadata": {},
   "outputs": [],
   "source": [
    "# SINGLE TEST\n",
    "test_shp = Path(r'D:/gis/single_test/one.shp')   # change\n",
    "\n",
    "# BATCH\n",
    "batch_root   = Path(r'D:/gis/batch_root')        # each sub‑folder = timestamp\n",
    "batch_output = Path(r'D:/gis/tif_output')\n",
    "batch_output.mkdir(parents=True, exist_ok=True)\n",
    "\n",
    "print('Batch root :', batch_root.resolve())\n",
    "print('Output root:', batch_output.resolve())\n"
   ]
  },
  {
   "cell_type": "markdown",
   "id": "46039b0b",
   "metadata": {},
   "source": [
    "### Parameters"
   ]
  },
  {
   "cell_type": "code",
   "execution_count": null,
   "id": "f3c14820",
   "metadata": {},
   "outputs": [],
   "source": [
    "PIXEL_LIMIT     = 4096\n",
    "PIXEL_SIZE_FINE = 1e-5    # deg pls defined by yourself\n",
    "NODATA          = -9999.0\n",
    "#MERGE_STRATEGY  = 'max'   # max/min/first\n",
    "FRAME_FIELD     = 'FRAME' # attribute for frame number\n"
   ]
  },
  {
   "cell_type": "markdown",
   "id": "297326c9",
   "metadata": {},
   "source": [
    "### Utilities"
   ]
  },
  {
   "cell_type": "code",
   "execution_count": null,
   "id": "04ffeaa6",
   "metadata": {},
   "outputs": [],
   "source": [
    "def repair(gdf):\n",
    "    def _f(geom):\n",
    "        if geom is None or geom.is_empty:\n",
    "            return None\n",
    "        if not geom.is_valid:\n",
    "            try:\n",
    "                return make_valid(geom)\n",
    "            except Exception:\n",
    "                return geom.buffer(0)\n",
    "        return geom\n",
    "    gdf['geometry'] = gdf.geometry.apply(_f)\n",
    "    return gdf[~gdf.geometry.is_empty & gdf.geometry.notnull()]\n",
    "\n",
    "def choose_px(bounds):\n",
    "    minx, miny, maxx, maxy = bounds\n",
    "    dx, dy = maxx - minx, maxy - miny\n",
    "    if dx/PIXEL_SIZE_FINE <= PIXEL_LIMIT and dy/PIXEL_SIZE_FINE <= PIXEL_LIMIT:\n",
    "        return PIXEL_SIZE_FINE\n",
    "    px = max(dx, dy)/PIXEL_LIMIT\n",
    "    if px > PIXEL_SIZE_FINE:\n",
    "        warnings.warn(f'Pixel size relaxed to {px:.6f}')\n",
    "    return px\n",
    "\n",
    "def rasterize_depth(gdf):\n",
    "    minx, miny, maxx, maxy = gdf.total_bounds\n",
    "    px = choose_px((minx, miny, maxx, maxy))\n",
    "    width  = math.ceil((maxx - minx)/px)\n",
    "    height = math.ceil((maxy - miny)/px)\n",
    "    transform = from_origin(minx, maxy, px, px)\n",
    "\n",
    "    shapes = ((row.geometry, float(row['DEPTH2D'])) for _, row in gdf.iterrows())\n",
    "    arr = rasterize(shapes, out_shape=(height, width),\n",
    "                    fill=NODATA, dtype='float32',\n",
    "                    transform=transform)\n",
    "    return arr, transform\n"
   ]
  },
  {
   "cell_type": "markdown",
   "id": "379de802",
   "metadata": {},
   "source": [
    "## 1  Interactive Preview"
   ]
  },
  {
   "cell_type": "code",
   "execution_count": null,
   "id": "8f6a6c6b",
   "metadata": {},
   "outputs": [],
   "source": [
    "if test_shp.exists():\n",
    "    gdf = gpd.read_file(test_shp)\n",
    "    if 'DEPTH2D' not in gdf.columns:\n",
    "        raise KeyError('DEPTH2D missing')\n",
    "    gdf = repair(gdf)\n",
    "    arr, transform = rasterize_depth(gdf)\n",
    "\n",
    "    minx, miny, maxx, maxy = gdf.total_bounds\n",
    "    fig, ax = plt.subplots(figsize=(6,6))\n",
    "    im = ax.imshow(arr, extent=[minx,maxx,miny,maxy], origin='upper', cmap='viridis', alpha=0.6)\n",
    "    gdf.boundary.plot(ax=ax, edgecolor='white', linewidth=0.4)\n",
    "    plt.colorbar(im, ax=ax, fraction=0.022, pad=0.01, label='DEPTH2D')\n",
    "    ax.set_axis_off()\n",
    "    plt.show()\n",
    "else:\n",
    "    print('Set `test_shp` path to an existing shapefile for preview.')\n"
   ]
  },
  {
   "cell_type": "markdown",
   "id": "b818d9ad",
   "metadata": {},
   "source": [
    "## 2  Batch Conversion"
   ]
  },
  {
   "cell_type": "code",
   "execution_count": null,
   "id": "988909db",
   "metadata": {},
   "outputs": [],
   "source": [
    "folders = [p for p in batch_root.iterdir() if p.is_dir()]\n",
    "print(f'Folders found: {len(folders)}')\n",
    "\n",
    "for ts_dir in folders:\n",
    "    timestamp = ts_dir.name\n",
    "    shp_paths = list(ts_dir.glob('*.shp'))\n",
    "    if not shp_paths:\n",
    "        print(f'[SKIP] {timestamp}: no shp')\n",
    "        continue\n",
    "    shp_path = shp_paths[0]\n",
    "\n",
    "    try:\n",
    "        gdf = gpd.read_file(shp_path)\n",
    "        if 'DEPTH2D' not in gdf.columns:\n",
    "            print(f'[SKIP] {shp_path.name}: DEPTH2D missing')\n",
    "            continue\n",
    "        gdf = repair(gdf)\n",
    "        frame_val = (str(gdf[FRAME_FIELD].dropna().iloc[0])\n",
    "                     if FRAME_FIELD in gdf.columns and not gdf[FRAME_FIELD].dropna().empty\n",
    "                     else shp_path.stem)\n",
    "        arr, transform = rasterize_depth(gdf)\n",
    "        out_tif = batch_output / f'{timestamp}_{frame_val}.tif'\n",
    "\n",
    "        meta = dict(driver='GTiff',\n",
    "                    height=arr.shape[0], width=arr.shape[1],\n",
    "                    count=1, dtype='float32', transform=transform,\n",
    "                    crs=gdf.crs, nodata=NODATA)\n",
    "\n",
    "        with rasterio.open(out_tif, 'w', **meta) as dst:\n",
    "            dst.write(arr, 1)\n",
    "\n",
    "        print(f'[OK] {timestamp}/{shp_path.name} → {out_tif.name}')\n",
    "    except Exception as e:\n",
    "        print(f'[ERR] {shp_path}: {e}')\n"
   ]
  }
 ],
 "metadata": {
  "kernelspec": {
   "display_name": "Python 3 (ipykernel)",
   "language": "python",
   "name": "python3"
  },
  "language_info": {
   "codemirror_mode": {
    "name": "ipython",
    "version": 3
   },
   "file_extension": ".py",
   "mimetype": "text/x-python",
   "name": "python",
   "nbconvert_exporter": "python",
   "pygments_lexer": "ipython3",
   "version": "3.12.7"
  }
 },
 "nbformat": 4,
 "nbformat_minor": 5
}
