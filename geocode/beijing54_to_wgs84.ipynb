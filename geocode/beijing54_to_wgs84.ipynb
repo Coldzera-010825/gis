{
 "cells": [
  {
   "cell_type": "markdown",
   "id": "a08e65ad",
   "metadata": {},
   "source": [
    "# Beijing 1954 (TIFF) ➜ WGS 84 (EPSG:4326) — Raster Re-projection\n",
    "Convert a georeferenced raster from **Beijing 1954** (aka *Beijing 54*) to **WGS 84** using a table of ground-control points.\n",
    "\n",
    "**Workflow**\n",
    "1. Load control-point table (`54_to_84.csv`).\n",
    "2. Attach the GCPs (Beijing 54 ➜ WGS 84) to the original TIFF.\n",
    "3. Call **GDAL Warp** (`gdal.Warp`) with a Thin-Plate Spline (TPS) or 1st-order polynomial transform.\n",
    "4. Save the re-projected raster as GeoTIFF in WGS 84.\n"
   ]
  },
  {
   "cell_type": "markdown",
   "id": "c261202c",
   "metadata": {},
   "source": [
    "## Requirements\n",
    "```bash\n",
    "conda install -c conda-forge gdal rasterio pyproj pandas\n",
    "```\n",
    "GDAL ≥ 3.1 is recommended so that `gdal.Warp` can use the **`tps=True`** option.\n"
   ]
  },
  {
   "cell_type": "code",
   "execution_count": null,
   "id": "ce8831b0",
   "metadata": {},
   "outputs": [],
   "source": [
    "import os\n",
    "from osgeo import gdal, osr\n",
    "import pandas as pd\n",
    "from typing import List\n"
   ]
  },
  {
   "cell_type": "code",
   "execution_count": null,
   "id": "dcec71ee",
   "metadata": {},
   "outputs": [],
   "source": [
    "# ---- User inputs -------------------------------------------------------\n",
    "input_tiff   = \"beijing54.tif\"         # Source raster (Beijing 54)\n",
    "gcps_csv     = \"54_to_84.csv\"          # Control-point table (CSV)\n",
    "output_tiff  = \"beijing54_to_wgs84.tif\"\n",
    "\n",
    "# Transform method:  'tps' (thin-plate spline) or polynomial order (int)\n",
    "transform_method = \"tps\"   # choose \"tps\" or 1/2/3 for polynomial order\n"
   ]
  },
  {
   "cell_type": "code",
   "execution_count": null,
   "id": "006fe008",
   "metadata": {},
   "outputs": [],
   "source": [
    "# The CSV must contain:\n",
    "#   x54, y54  ▶ coordinates in Beijing 54 (same units as the raster)\n",
    "#   lon84, lat84 ▶ WGS 84 geographic coordinates (decimal degrees)\n",
    "gdf = pd.read_csv(gcps_csv)\n",
    "\n",
    "# Open source raster\n",
    "src_ds = gdal.Open(input_tiff, gdal.GA_ReadOnly)\n",
    "if src_ds is None:\n",
    "    raise FileNotFoundError(f\"Cannot open {input_tiff}\")\n",
    "\n",
    "gt = src_ds.GetGeoTransform()\n",
    "inv_gt = gdal.InvGeoTransform(gt)\n",
    "\n",
    "# Build GCP list\n",
    "gdal_gcps: List[gdal.GCP] = []\n",
    "for _, row in gdf.iterrows():\n",
    "    x54, y54 = float(row['x54']), float(row['y54'])\n",
    "    lon84, lat84 = float(row['lon84']), float(row['lat84'])\n",
    "    # Convert world → pixel\n",
    "    px, py = gdal.ApplyGeoTransform(inv_gt, x54, y54)\n",
    "    gcp = gdal.GCP(lon84, lat84, 0, px, py)  # (lon, lat, z, pixel, line)\n",
    "    gdal_gcps.append(gcp)\n",
    "\n",
    "print(f\"Loaded {len(gdal_gcps)} control points.\")\n"
   ]
  },
  {
   "cell_type": "code",
   "execution_count": null,
   "id": "6d83c210",
   "metadata": {},
   "outputs": [],
   "source": [
    "# Create an in-memory VRT copy with GCPs\n",
    "vrt_path = \"/vsimem/tmp_with_gcps.vrt\"\n",
    "gdal.Translate(\n",
    "    vrt_path,\n",
    "    src_ds,\n",
    "    GCPs=gdal_gcps,\n",
    "    outputSRS=\"EPSG:4326\"  # Target GCP spatial ref (WGS 84)\n",
    ")\n",
    "src_ds = None  # close\n"
   ]
  },
  {
   "cell_type": "code",
   "execution_count": null,
   "id": "275cd4ae",
   "metadata": {},
   "outputs": [],
   "source": [
    "warp_kwargs = dict(\n",
    "    dstSRS=\"EPSG:4326\",\n",
    "    format=\"GTiff\",\n",
    "    xRes=0.0002695,   # ≈ 30 m at the equator — adjust as needed\n",
    "    yRes=0.0002695,\n",
    "    resampleAlg=\"bilinear\",\n",
    "    multithread=True\n",
    ")\n",
    "\n",
    "if transform_method == \"tps\":\n",
    "    warp_kwargs[\"tps\"] = True\n",
    "else:\n",
    "    warp_kwargs[\"polynomialOrder\"] = int(transform_method)\n",
    "\n",
    "gdal.Warp(\n",
    "    destNameOrDestDS=output_tiff,\n",
    "    srcDSOrSrcDSTab=vrt_path,\n",
    "    **warp_kwargs\n",
    ")\n",
    "\n",
    "print(f\"Warp complete ➜ {output_tiff}\")\n"
   ]
  },
  {
   "cell_type": "code",
   "execution_count": null,
   "id": "c9b9ddca",
   "metadata": {},
   "outputs": [],
   "source": [
    "ds = gdal.Open(output_tiff)\n",
    "print(\"Target CRS:\", ds.GetSpatialRef().ExportToWkt().split(',')[0])\n",
    "print(\"Raster size :\", ds.RasterXSize, \"×\", ds.RasterYSize)\n",
    "print(\"GeoTransform:\", ds.GetGeoTransform())\n",
    "ds = None\n"
   ]
  },
  {
   "cell_type": "markdown",
   "id": "7c416401",
   "metadata": {},
   "source": [
    "---\n",
    "**Tips**\n",
    "- If you prefer to use a 1st-order polynomial instead of TPS, set `transform_method = 1`.\n",
    "- Increase the number of well-distributed control points for higher accuracy.\n",
    "- `xRes`/`yRes` control the output resolution. Adjust to suit your data.\n"
   ]
  }
 ],
 "metadata": {
  "kernelspec": {
   "display_name": "Python 3",
   "language": "python",
   "name": "python3"
  },
  "language_info": {
   "name": "python",
   "version": "3.13.2"
  }
 },
 "nbformat": 4,
 "nbformat_minor": 5
}
